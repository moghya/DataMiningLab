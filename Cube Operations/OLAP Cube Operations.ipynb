{
 "cells": [
  {
   "cell_type": "markdown",
   "metadata": {},
   "source": [
    "This notebook demonstrates OLAP Cube Operations using python."
   ]
  },
  {
   "cell_type": "code",
   "execution_count": 1,
   "metadata": {
    "collapsed": true
   },
   "outputs": [],
   "source": [
    "import numpy as np\n",
    "import pandas as pd\n",
    "from matplotlib import pyplot as plt\n",
    "%matplotlib inline"
   ]
  },
  {
   "cell_type": "code",
   "execution_count": 2,
   "metadata": {
    "collapsed": true
   },
   "outputs": [],
   "source": [
    "data = pd.read_csv('data.csv')"
   ]
  },
  {
   "cell_type": "code",
   "execution_count": 3,
   "metadata": {
    "collapsed": false
   },
   "outputs": [
    {
     "data": {
      "text/html": [
       "<div>\n",
       "<table border=\"1\" class=\"dataframe\">\n",
       "  <thead>\n",
       "    <tr style=\"text-align: right;\">\n",
       "      <th></th>\n",
       "      <th>Continent</th>\n",
       "      <th>Location</th>\n",
       "      <th>Product</th>\n",
       "      <th>Year</th>\n",
       "      <th>Sales</th>\n",
       "    </tr>\n",
       "  </thead>\n",
       "  <tbody>\n",
       "    <tr>\n",
       "      <th>0</th>\n",
       "      <td>Asia</td>\n",
       "      <td>Mumbai</td>\n",
       "      <td>iPhone</td>\n",
       "      <td>2011</td>\n",
       "      <td>10</td>\n",
       "    </tr>\n",
       "    <tr>\n",
       "      <th>1</th>\n",
       "      <td>Asia</td>\n",
       "      <td>Mumbai</td>\n",
       "      <td>iPad</td>\n",
       "      <td>2011</td>\n",
       "      <td>53</td>\n",
       "    </tr>\n",
       "    <tr>\n",
       "      <th>2</th>\n",
       "      <td>Asia</td>\n",
       "      <td>Mumbai</td>\n",
       "      <td>MacBook</td>\n",
       "      <td>2011</td>\n",
       "      <td>125</td>\n",
       "    </tr>\n",
       "    <tr>\n",
       "      <th>3</th>\n",
       "      <td>Asia</td>\n",
       "      <td>Mumbai</td>\n",
       "      <td>iWatch</td>\n",
       "      <td>2011</td>\n",
       "      <td>10</td>\n",
       "    </tr>\n",
       "    <tr>\n",
       "      <th>4</th>\n",
       "      <td>America</td>\n",
       "      <td>New York</td>\n",
       "      <td>iPhone</td>\n",
       "      <td>2011</td>\n",
       "      <td>123</td>\n",
       "    </tr>\n",
       "  </tbody>\n",
       "</table>\n",
       "</div>"
      ],
      "text/plain": [
       "  Continent  Location  Product  Year  Sales\n",
       "0      Asia    Mumbai   iPhone  2011     10\n",
       "1      Asia    Mumbai     iPad  2011     53\n",
       "2      Asia    Mumbai  MacBook  2011    125\n",
       "3      Asia    Mumbai   iWatch  2011     10\n",
       "4   America  New York   iPhone  2011    123"
      ]
     },
     "execution_count": 3,
     "metadata": {},
     "output_type": "execute_result"
    }
   ],
   "source": [
    "data.head(5)"
   ]
  },
  {
   "cell_type": "code",
   "execution_count": 4,
   "metadata": {
    "collapsed": false
   },
   "outputs": [
    {
     "data": {
      "text/html": [
       "<div>\n",
       "<table border=\"1\" class=\"dataframe\">\n",
       "  <thead>\n",
       "    <tr>\n",
       "      <th></th>\n",
       "      <th colspan=\"12\" halign=\"left\">Sales</th>\n",
       "    </tr>\n",
       "    <tr>\n",
       "      <th>Product</th>\n",
       "      <th colspan=\"3\" halign=\"left\">MacBook</th>\n",
       "      <th colspan=\"3\" halign=\"left\">iPad</th>\n",
       "      <th colspan=\"3\" halign=\"left\">iPhone</th>\n",
       "      <th colspan=\"3\" halign=\"left\">iWatch</th>\n",
       "    </tr>\n",
       "    <tr>\n",
       "      <th>Year</th>\n",
       "      <th>2011</th>\n",
       "      <th>2012</th>\n",
       "      <th>2013</th>\n",
       "      <th>2011</th>\n",
       "      <th>2012</th>\n",
       "      <th>2013</th>\n",
       "      <th>2011</th>\n",
       "      <th>2012</th>\n",
       "      <th>2013</th>\n",
       "      <th>2011</th>\n",
       "      <th>2012</th>\n",
       "      <th>2013</th>\n",
       "    </tr>\n",
       "    <tr>\n",
       "      <th>Location</th>\n",
       "      <th></th>\n",
       "      <th></th>\n",
       "      <th></th>\n",
       "      <th></th>\n",
       "      <th></th>\n",
       "      <th></th>\n",
       "      <th></th>\n",
       "      <th></th>\n",
       "      <th></th>\n",
       "      <th></th>\n",
       "      <th></th>\n",
       "      <th></th>\n",
       "    </tr>\n",
       "  </thead>\n",
       "  <tbody>\n",
       "    <tr>\n",
       "      <th>London</th>\n",
       "      <td>30</td>\n",
       "      <td>58</td>\n",
       "      <td>55</td>\n",
       "      <td>12</td>\n",
       "      <td>55</td>\n",
       "      <td>85</td>\n",
       "      <td>63</td>\n",
       "      <td>230</td>\n",
       "      <td>52</td>\n",
       "      <td>61</td>\n",
       "      <td>85</td>\n",
       "      <td>80</td>\n",
       "    </tr>\n",
       "    <tr>\n",
       "      <th>Mumbai</th>\n",
       "      <td>125</td>\n",
       "      <td>29</td>\n",
       "      <td>88</td>\n",
       "      <td>53</td>\n",
       "      <td>122</td>\n",
       "      <td>59</td>\n",
       "      <td>10</td>\n",
       "      <td>82</td>\n",
       "      <td>69</td>\n",
       "      <td>10</td>\n",
       "      <td>9</td>\n",
       "      <td>13</td>\n",
       "    </tr>\n",
       "    <tr>\n",
       "      <th>New York</th>\n",
       "      <td>22</td>\n",
       "      <td>33</td>\n",
       "      <td>54</td>\n",
       "      <td>129</td>\n",
       "      <td>52</td>\n",
       "      <td>72</td>\n",
       "      <td>123</td>\n",
       "      <td>11</td>\n",
       "      <td>24</td>\n",
       "      <td>95</td>\n",
       "      <td>27</td>\n",
       "      <td>22</td>\n",
       "    </tr>\n",
       "    <tr>\n",
       "      <th>Paris</th>\n",
       "      <td>33</td>\n",
       "      <td>41</td>\n",
       "      <td>17</td>\n",
       "      <td>45</td>\n",
       "      <td>52</td>\n",
       "      <td>58</td>\n",
       "      <td>60</td>\n",
       "      <td>62</td>\n",
       "      <td>31</td>\n",
       "      <td>29</td>\n",
       "      <td>47</td>\n",
       "      <td>16</td>\n",
       "    </tr>\n",
       "    <tr>\n",
       "      <th>Tokyo</th>\n",
       "      <td>59</td>\n",
       "      <td>81</td>\n",
       "      <td>37</td>\n",
       "      <td>91</td>\n",
       "      <td>77</td>\n",
       "      <td>19</td>\n",
       "      <td>94</td>\n",
       "      <td>43</td>\n",
       "      <td>88</td>\n",
       "      <td>72</td>\n",
       "      <td>55</td>\n",
       "      <td>62</td>\n",
       "    </tr>\n",
       "  </tbody>\n",
       "</table>\n",
       "</div>"
      ],
      "text/plain": [
       "           Sales                                                           \n",
       "Product  MacBook           iPad           iPhone           iWatch          \n",
       "Year        2011 2012 2013 2011 2012 2013   2011 2012 2013   2011 2012 2013\n",
       "Location                                                                   \n",
       "London        30   58   55   12   55   85     63  230   52     61   85   80\n",
       "Mumbai       125   29   88   53  122   59     10   82   69     10    9   13\n",
       "New York      22   33   54  129   52   72    123   11   24     95   27   22\n",
       "Paris         33   41   17   45   52   58     60   62   31     29   47   16\n",
       "Tokyo         59   81   37   91   77   19     94   43   88     72   55   62"
      ]
     },
     "execution_count": 4,
     "metadata": {},
     "output_type": "execute_result"
    }
   ],
   "source": [
    "#Pivoting the dataframe on index Location and value for Sales with columns Product and Year.\n",
    "pd.pivot_table(data,index=data['Location'],columns=['Product','Year'],values=['Sales'],aggfunc='sum')"
   ]
  },
  {
   "cell_type": "code",
   "execution_count": 5,
   "metadata": {
    "collapsed": false
   },
   "outputs": [
    {
     "data": {
      "text/html": [
       "<div>\n",
       "<table border=\"1\" class=\"dataframe\">\n",
       "  <thead>\n",
       "    <tr>\n",
       "      <th></th>\n",
       "      <th colspan=\"5\" halign=\"left\">Sales</th>\n",
       "    </tr>\n",
       "    <tr>\n",
       "      <th>Location</th>\n",
       "      <th>London</th>\n",
       "      <th>Mumbai</th>\n",
       "      <th>New York</th>\n",
       "      <th>Paris</th>\n",
       "      <th>Tokyo</th>\n",
       "    </tr>\n",
       "    <tr>\n",
       "      <th>Year</th>\n",
       "      <th></th>\n",
       "      <th></th>\n",
       "      <th></th>\n",
       "      <th></th>\n",
       "      <th></th>\n",
       "    </tr>\n",
       "  </thead>\n",
       "  <tbody>\n",
       "    <tr>\n",
       "      <th>2011</th>\n",
       "      <td>166</td>\n",
       "      <td>198</td>\n",
       "      <td>369</td>\n",
       "      <td>167</td>\n",
       "      <td>316</td>\n",
       "    </tr>\n",
       "    <tr>\n",
       "      <th>2012</th>\n",
       "      <td>428</td>\n",
       "      <td>242</td>\n",
       "      <td>123</td>\n",
       "      <td>202</td>\n",
       "      <td>256</td>\n",
       "    </tr>\n",
       "    <tr>\n",
       "      <th>2013</th>\n",
       "      <td>272</td>\n",
       "      <td>229</td>\n",
       "      <td>172</td>\n",
       "      <td>122</td>\n",
       "      <td>206</td>\n",
       "    </tr>\n",
       "  </tbody>\n",
       "</table>\n",
       "</div>"
      ],
      "text/plain": [
       "          Sales                            \n",
       "Location London Mumbai New York Paris Tokyo\n",
       "Year                                       \n",
       "2011        166    198      369   167   316\n",
       "2012        428    242      123   202   256\n",
       "2013        272    229      172   122   206"
      ]
     },
     "execution_count": 5,
     "metadata": {},
     "output_type": "execute_result"
    }
   ],
   "source": [
    "#Pivoting the dataframe on index Year and value for Sales with column Location\n",
    "pd.pivot_table(data,index=data['Year'],columns=['Location'],values=['Sales'],aggfunc='sum')"
   ]
  },
  {
   "cell_type": "code",
   "execution_count": 6,
   "metadata": {
    "collapsed": false
   },
   "outputs": [
    {
     "data": {
      "text/html": [
       "<div>\n",
       "<table border=\"1\" class=\"dataframe\">\n",
       "  <thead>\n",
       "    <tr>\n",
       "      <th></th>\n",
       "      <th colspan=\"4\" halign=\"left\">Sales</th>\n",
       "    </tr>\n",
       "    <tr>\n",
       "      <th>Product</th>\n",
       "      <th>MacBook</th>\n",
       "      <th>iPad</th>\n",
       "      <th>iPhone</th>\n",
       "      <th>iWatch</th>\n",
       "    </tr>\n",
       "    <tr>\n",
       "      <th>Year</th>\n",
       "      <th></th>\n",
       "      <th></th>\n",
       "      <th></th>\n",
       "      <th></th>\n",
       "    </tr>\n",
       "  </thead>\n",
       "  <tbody>\n",
       "    <tr>\n",
       "      <th>2011</th>\n",
       "      <td>269</td>\n",
       "      <td>330</td>\n",
       "      <td>350</td>\n",
       "      <td>267</td>\n",
       "    </tr>\n",
       "    <tr>\n",
       "      <th>2012</th>\n",
       "      <td>242</td>\n",
       "      <td>358</td>\n",
       "      <td>428</td>\n",
       "      <td>223</td>\n",
       "    </tr>\n",
       "    <tr>\n",
       "      <th>2013</th>\n",
       "      <td>251</td>\n",
       "      <td>293</td>\n",
       "      <td>264</td>\n",
       "      <td>193</td>\n",
       "    </tr>\n",
       "  </tbody>\n",
       "</table>\n",
       "</div>"
      ],
      "text/plain": [
       "          Sales                   \n",
       "Product MacBook iPad iPhone iWatch\n",
       "Year                              \n",
       "2011        269  330    350    267\n",
       "2012        242  358    428    223\n",
       "2013        251  293    264    193"
      ]
     },
     "execution_count": 6,
     "metadata": {},
     "output_type": "execute_result"
    }
   ],
   "source": [
    "#Pivoting the dataframe on index Year and value for Sales with column Product\n",
    "pd.pivot_table(data,index=data['Year'],columns=['Product'],values=['Sales'],aggfunc='sum')"
   ]
  },
  {
   "cell_type": "code",
   "execution_count": 7,
   "metadata": {
    "collapsed": false
   },
   "outputs": [
    {
     "data": {
      "text/html": [
       "<div>\n",
       "<table border=\"1\" class=\"dataframe\">\n",
       "  <thead>\n",
       "    <tr>\n",
       "      <th></th>\n",
       "      <th colspan=\"5\" halign=\"left\">Sales</th>\n",
       "    </tr>\n",
       "    <tr>\n",
       "      <th>Location</th>\n",
       "      <th>London</th>\n",
       "      <th>Mumbai</th>\n",
       "      <th>New York</th>\n",
       "      <th>Paris</th>\n",
       "      <th>Tokyo</th>\n",
       "    </tr>\n",
       "    <tr>\n",
       "      <th>Product</th>\n",
       "      <th></th>\n",
       "      <th></th>\n",
       "      <th></th>\n",
       "      <th></th>\n",
       "      <th></th>\n",
       "    </tr>\n",
       "  </thead>\n",
       "  <tbody>\n",
       "    <tr>\n",
       "      <th>MacBook</th>\n",
       "      <td>143</td>\n",
       "      <td>242</td>\n",
       "      <td>109</td>\n",
       "      <td>91</td>\n",
       "      <td>177</td>\n",
       "    </tr>\n",
       "    <tr>\n",
       "      <th>iPad</th>\n",
       "      <td>152</td>\n",
       "      <td>234</td>\n",
       "      <td>253</td>\n",
       "      <td>155</td>\n",
       "      <td>187</td>\n",
       "    </tr>\n",
       "    <tr>\n",
       "      <th>iPhone</th>\n",
       "      <td>345</td>\n",
       "      <td>161</td>\n",
       "      <td>158</td>\n",
       "      <td>153</td>\n",
       "      <td>225</td>\n",
       "    </tr>\n",
       "    <tr>\n",
       "      <th>iWatch</th>\n",
       "      <td>226</td>\n",
       "      <td>32</td>\n",
       "      <td>144</td>\n",
       "      <td>92</td>\n",
       "      <td>189</td>\n",
       "    </tr>\n",
       "  </tbody>\n",
       "</table>\n",
       "</div>"
      ],
      "text/plain": [
       "          Sales                            \n",
       "Location London Mumbai New York Paris Tokyo\n",
       "Product                                    \n",
       "MacBook     143    242      109    91   177\n",
       "iPad        152    234      253   155   187\n",
       "iPhone      345    161      158   153   225\n",
       "iWatch      226     32      144    92   189"
      ]
     },
     "execution_count": 7,
     "metadata": {},
     "output_type": "execute_result"
    }
   ],
   "source": [
    "#Pivoting the dataframe on index Product and value for Sales with column Location\n",
    "pd.pivot_table(data,index=data['Product'],columns=['Location'],values=['Sales'],aggfunc='sum')"
   ]
  },
  {
   "cell_type": "code",
   "execution_count": null,
   "metadata": {
    "collapsed": true
   },
   "outputs": [],
   "source": []
  }
 ],
 "metadata": {
  "anaconda-cloud": {},
  "kernelspec": {
   "display_name": "Python [conda root]",
   "language": "python",
   "name": "conda-root-py"
  },
  "language_info": {
   "codemirror_mode": {
    "name": "ipython",
    "version": 3
   },
   "file_extension": ".py",
   "mimetype": "text/x-python",
   "name": "python",
   "nbconvert_exporter": "python",
   "pygments_lexer": "ipython3",
   "version": "3.5.2"
  }
 },
 "nbformat": 4,
 "nbformat_minor": 1
}
