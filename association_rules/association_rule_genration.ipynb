{
 "cells": [
  {
   "cell_type": "code",
   "execution_count": 1,
   "metadata": {
    "collapsed": true
   },
   "outputs": [],
   "source": [
    "import math\n",
    "from itertools import combinations\n",
    "from itertools import permutations"
   ]
  },
  {
   "cell_type": "code",
   "execution_count": 2,
   "metadata": {
    "collapsed": true
   },
   "outputs": [],
   "source": [
    "def read_data_in_dict(filename):\n",
    "    f = open(filename)\n",
    "    lines = f.readlines()\n",
    "    transactions = []\n",
    "    items = lines[0].split(',')\n",
    "    for line in lines[1:]:\n",
    "        transactions.append(list(map(int,line.split(','))))\n",
    "    data ={\n",
    "        'items':items,\n",
    "        'transactions':transactions\n",
    "    }\n",
    "    return data"
   ]
  },
  {
   "cell_type": "code",
   "execution_count": 3,
   "metadata": {
    "collapsed": true
   },
   "outputs": [],
   "source": [
    "def frequent_itemsets(data,level,min_support):\n",
    "    items = data['items']\n",
    "    transactions = data['transactions']\n",
    "    min_freq = math.ceil(min_support*len(transactions))\n",
    "    sets = list(combinations(items,level))\n",
    "    frequent_sets = []\n",
    "    for s in sets:\n",
    "        freq=get_freq(s,items,transactions)\n",
    "        if freq>=min_freq:\n",
    "            frequent_sets.append(s)\n",
    "    return frequent_sets\n",
    "        "
   ]
  },
  {
   "cell_type": "code",
   "execution_count": 4,
   "metadata": {
    "collapsed": true
   },
   "outputs": [],
   "source": [
    "def get_freq(s,items,transactions):\n",
    "    freq=0\n",
    "    for t in transactions:\n",
    "        temp=1\n",
    "        for item in s:\n",
    "            temp*=t[items.index(item)]\n",
    "        if temp==1:\n",
    "            freq+=1  \n",
    "    return freq"
   ]
  },
  {
   "cell_type": "code",
   "execution_count": 5,
   "metadata": {
    "collapsed": true
   },
   "outputs": [],
   "source": [
    "def generate_rule(data,min_support,min_confidence):\n",
    "    items = data['items']\n",
    "    transactions = data['transactions']\n",
    "    for l in range(2,len(data['items'])+1):\n",
    "        frequent_set = frequent_itemsets(data,l,min_support)\n",
    "        for s in frequent_set:\n",
    "            freq_s = get_freq(s,items,transactions)\n",
    "            _s_permute = list(permutations(s))\n",
    "            for _s in _s_permute:\n",
    "                for i in range(0,len(_s)-1):\n",
    "                    x = _s[0:i+1]\n",
    "                    y = _s[i+1:]\n",
    "                    freq_x = get_freq(x,items,transactions)\n",
    "                    c = freq_s/freq_x\n",
    "                    if c >= min_confidence:\n",
    "                        print(x,' -> ',y,'confidence is ',c)"
   ]
  },
  {
   "cell_type": "code",
   "execution_count": 6,
   "metadata": {},
   "outputs": [
    {
     "ename": "FileNotFoundError",
     "evalue": "[Errno 2] No such file or directory: 'itemsets.csv'",
     "output_type": "error",
     "traceback": [
      "\u001b[0;31m---------------------------------------------------------------------------\u001b[0m",
      "\u001b[0;31mFileNotFoundError\u001b[0m                         Traceback (most recent call last)",
      "\u001b[0;32m<ipython-input-6-e44c35f5f563>\u001b[0m in \u001b[0;36m<module>\u001b[0;34m()\u001b[0m\n\u001b[0;32m----> 1\u001b[0;31m \u001b[0mdata\u001b[0m \u001b[0;34m=\u001b[0m \u001b[0mread_data_in_dict\u001b[0m\u001b[0;34m(\u001b[0m\u001b[0;34m'itemsets.csv'\u001b[0m\u001b[0;34m)\u001b[0m\u001b[0;34m\u001b[0m\u001b[0m\n\u001b[0m\u001b[1;32m      2\u001b[0m \u001b[0mgenerate_rule\u001b[0m\u001b[0;34m(\u001b[0m\u001b[0mdata\u001b[0m\u001b[0;34m,\u001b[0m\u001b[0;36m0.5\u001b[0m\u001b[0;34m,\u001b[0m\u001b[0;36m0.4\u001b[0m\u001b[0;34m)\u001b[0m\u001b[0;34m\u001b[0m\u001b[0m\n",
      "\u001b[0;32m<ipython-input-2-cd45b7d5caef>\u001b[0m in \u001b[0;36mread_data_in_dict\u001b[0;34m(filename)\u001b[0m\n\u001b[1;32m      1\u001b[0m \u001b[0;32mdef\u001b[0m \u001b[0mread_data_in_dict\u001b[0m\u001b[0;34m(\u001b[0m\u001b[0mfilename\u001b[0m\u001b[0;34m)\u001b[0m\u001b[0;34m:\u001b[0m\u001b[0;34m\u001b[0m\u001b[0m\n\u001b[0;32m----> 2\u001b[0;31m     \u001b[0mf\u001b[0m \u001b[0;34m=\u001b[0m \u001b[0mopen\u001b[0m\u001b[0;34m(\u001b[0m\u001b[0mfilename\u001b[0m\u001b[0;34m)\u001b[0m\u001b[0;34m\u001b[0m\u001b[0m\n\u001b[0m\u001b[1;32m      3\u001b[0m     \u001b[0mlines\u001b[0m \u001b[0;34m=\u001b[0m \u001b[0mf\u001b[0m\u001b[0;34m.\u001b[0m\u001b[0mreadlines\u001b[0m\u001b[0;34m(\u001b[0m\u001b[0;34m)\u001b[0m\u001b[0;34m\u001b[0m\u001b[0m\n\u001b[1;32m      4\u001b[0m     \u001b[0mtransactions\u001b[0m \u001b[0;34m=\u001b[0m \u001b[0;34m[\u001b[0m\u001b[0;34m]\u001b[0m\u001b[0;34m\u001b[0m\u001b[0m\n\u001b[1;32m      5\u001b[0m     \u001b[0mitems\u001b[0m \u001b[0;34m=\u001b[0m \u001b[0mlines\u001b[0m\u001b[0;34m[\u001b[0m\u001b[0;36m0\u001b[0m\u001b[0;34m]\u001b[0m\u001b[0;34m.\u001b[0m\u001b[0msplit\u001b[0m\u001b[0;34m(\u001b[0m\u001b[0;34m','\u001b[0m\u001b[0;34m)\u001b[0m\u001b[0;34m\u001b[0m\u001b[0m\n",
      "\u001b[0;31mFileNotFoundError\u001b[0m: [Errno 2] No such file or directory: 'itemsets.csv'"
     ]
    }
   ],
   "source": [
    "data = read_data_in_dict('itemsets.csv')\n",
    "generate_rule(data,0.5,0.4)"
   ]
  },
  {
   "cell_type": "code",
   "execution_count": null,
   "metadata": {
    "collapsed": true
   },
   "outputs": [],
   "source": []
  }
 ],
 "metadata": {
  "kernelspec": {
   "display_name": "Python 3",
   "language": "python",
   "name": "python3"
  },
  "language_info": {
   "codemirror_mode": {
    "name": "ipython",
    "version": 3
   },
   "file_extension": ".py",
   "mimetype": "text/x-python",
   "name": "python",
   "nbconvert_exporter": "python",
   "pygments_lexer": "ipython3",
   "version": "3.6.1"
  }
 },
 "nbformat": 4,
 "nbformat_minor": 2
}
