{
 "cells": [
  {
   "cell_type": "code",
   "execution_count": 1,
   "metadata": {
    "collapsed": true
   },
   "outputs": [],
   "source": [
    "import math"
   ]
  },
  {
   "cell_type": "code",
   "execution_count": 2,
   "metadata": {
    "collapsed": true
   },
   "outputs": [],
   "source": [
    "def read_csv_into_dict(file_name):    \n",
    "    data = {}\n",
    "    data['_headers_'] = []    \n",
    "    f = open(file_name)    \n",
    "    lines = f.readlines()    \n",
    "    data['_total_tuples_'] = len(lines)-1\n",
    "    for attrib in lines[0].split(','):\n",
    "        data[attrib] = []\n",
    "        data['_headers_'].append(attrib)    \n",
    "    number_of_attribs = len(data['_headers_'])    \n",
    "    for i in range(1,len(lines)):\n",
    "        line  = lines[i].split(',')\n",
    "        for j in range(0,number_of_attribs):\n",
    "            data[data['_headers_'][j]].append(line[j])    \n",
    "    f.close()\n",
    "    return data"
   ]
  },
  {
   "cell_type": "code",
   "execution_count": 3,
   "metadata": {
    "collapsed": true
   },
   "outputs": [],
   "source": [
    "def get_pi_log_pi(p,q):\n",
    "    if p==0 or q==0:\n",
    "        return 0\n",
    "    return (p/q)*math.log(p/q,2)"
   ]
  },
  {
   "cell_type": "code",
   "execution_count": 4,
   "metadata": {
    "collapsed": true
   },
   "outputs": [],
   "source": [
    "def get_info_gain(data,attribute):\n",
    "    aux = {}\n",
    "    target = data['_headers_'][-1]\n",
    "    unique_values_of_target = set(data[target])\n",
    "    unique_values_of_attribute = set(data[attribute])    \n",
    "    of_all_data = 0    \n",
    "    \n",
    "    for value_of_target in unique_values_of_target:\n",
    "        of_all_data+=get_pi_log_pi(data[target].count(value_of_target),len(data[target]))\n",
    "    \n",
    "    for value_of_attribute in unique_values_of_attribute:\n",
    "        aux[value_of_attribute]={}\n",
    "        for value_of_target in unique_values_of_target:\n",
    "            aux[value_of_attribute][value_of_target]=0\n",
    "        aux[value_of_attribute]['_total_']=0\n",
    "    \n",
    "    for i in range(0,data['_total_tuples_']):\n",
    "        value_of_attribute = data[attribute][i]\n",
    "        value_of_target = data[target][i]\n",
    "        aux[value_of_attribute][value_of_target]+=1\n",
    "        aux[value_of_attribute]['_total_']+=1\n",
    "        \n",
    "    gain = 0\n",
    "    \n",
    "    for value_of_attribute in unique_values_of_attribute:\n",
    "        temp =0\n",
    "        for value_of_target in unique_values_of_target:\n",
    "            temp+=get_pi_log_pi(aux[value_of_attribute][value_of_target],aux[value_of_attribute]['_total_'])\n",
    "        gain+=(aux[value_of_attribute]['_total_']/len(data[target]))*temp\n",
    "    \n",
    "    gain=gain-of_all_data\n",
    "    return gain"
   ]
  },
  {
   "cell_type": "code",
   "execution_count": 5,
   "metadata": {},
   "outputs": [
    {
     "name": "stdout",
     "output_type": "stream",
     "text": [
      "0.15183550136234136\n",
      "0.029222565658954647\n",
      "0.04812703040826927\n"
     ]
    }
   ],
   "source": [
    "data = read_csv_into_dict('tennis.csv')\n",
    "print(get_info_gain(data,'humidity'))\n",
    "print(get_info_gain(data,'temp'))\n",
    "print(get_info_gain(data,'windy'))"
   ]
  },
  {
   "cell_type": "code",
   "execution_count": 6,
   "metadata": {},
   "outputs": [
    {
     "name": "stdout",
     "output_type": "stream",
     "text": [
      "0.2467498197744391\n"
     ]
    }
   ],
   "source": [
    "data = read_csv_into_dict('laptops.csv')\n",
    "print(get_info_gain(data,'age'))"
   ]
  },
  {
   "cell_type": "code",
   "execution_count": 7,
   "metadata": {},
   "outputs": [
    {
     "data": {
      "text/plain": [
       "-0.9402859586706309"
      ]
     },
     "execution_count": 7,
     "metadata": {},
     "output_type": "execute_result"
    }
   ],
   "source": [
    "get_pi_log_pi(5,14)+get_pi_log_pi(9,14)"
   ]
  }
 ],
 "metadata": {
  "kernelspec": {
   "display_name": "Python 3",
   "language": "python",
   "name": "python3"
  },
  "language_info": {
   "codemirror_mode": {
    "name": "ipython",
    "version": 3
   },
   "file_extension": ".py",
   "mimetype": "text/x-python",
   "name": "python",
   "nbconvert_exporter": "python",
   "pygments_lexer": "ipython3",
   "version": "3.6.1"
  }
 },
 "nbformat": 4,
 "nbformat_minor": 2
}
