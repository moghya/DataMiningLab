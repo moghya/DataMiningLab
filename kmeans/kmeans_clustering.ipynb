{
 "cells": [
  {
   "cell_type": "code",
   "execution_count": 1,
   "metadata": {
    "collapsed": true
   },
   "outputs": [],
   "source": [
    "import json\n",
    "import math\n",
    "import copy\n",
    "from random import shuffle"
   ]
  },
  {
   "cell_type": "code",
   "execution_count": 2,
   "metadata": {
    "collapsed": true
   },
   "outputs": [],
   "source": [
    "def read_data_from_csv(filename):\n",
    "    f = open(filename)\n",
    "    lines = f.readlines()\n",
    "    data = {}\n",
    "    headers = lines[0].split(',')\n",
    "    points = []\n",
    "    for  i in range(1,len(lines)):\n",
    "        ordinates = list(map(float,lines[i].split(',')))\n",
    "        point = {}\n",
    "        for j in range(len(headers)):\n",
    "            point[headers[j]]=ordinates[j]\n",
    "        points.append(point)\n",
    "    data['ordinates'] =headers\n",
    "    data['points']=points\n",
    "    return data"
   ]
  },
  {
   "cell_type": "code",
   "execution_count": 3,
   "metadata": {
    "collapsed": true
   },
   "outputs": [],
   "source": [
    "def euclidean_distance(a,b,ordinates):\n",
    "    distance=0\n",
    "    for i in range(len(ordinates)):\n",
    "        distance+=(a[ordinates[i]]-b[ordinates[i]])**2\n",
    "    return distance**0.5"
   ]
  },
  {
   "cell_type": "code",
   "execution_count": 4,
   "metadata": {
    "collapsed": true
   },
   "outputs": [],
   "source": [
    "def update_centroid(cluster,ordinates):\n",
    "    for ordinate in ordinates:\n",
    "        temp = 0\n",
    "        for point in cluster['points']:\n",
    "            temp+=point[ordinate]\n",
    "        cluster['centroid'][ordinate]=(temp/len(cluster['points']))\n",
    "    return cluster"
   ]
  },
  {
   "cell_type": "code",
   "execution_count": 5,
   "metadata": {
    "collapsed": true
   },
   "outputs": [],
   "source": [
    "def add_points_into_clusters(clusters,points,ordinates):\n",
    "    for cluster in clusters:\n",
    "        cluster['points']=[]\n",
    "    \n",
    "    for point in points:\n",
    "        min_distance = euclidean_distance(point,clusters[0]['centroid'],ordinates)\n",
    "        min_index = 0\n",
    "        for i in range(1,len(clusters)):\n",
    "            temp = euclidean_distance(point,clusters[i]['centroid'],ordinates)\n",
    "            if temp<min_distance:\n",
    "                min_distance=temp\n",
    "                min_index=i\n",
    "        clusters[min_index]['points'].append(point)\n",
    "        clusters[min_index]=update_centroid(clusters[min_index],ordinates)\n",
    "\n",
    "    return clusters"
   ]
  },
  {
   "cell_type": "code",
   "execution_count": 6,
   "metadata": {
    "collapsed": true
   },
   "outputs": [],
   "source": [
    "def kmeans_clustering(data,k,iterations):\n",
    "    clusters = []\n",
    "    points = data['points']\n",
    "    ordinates = data['ordinates']\n",
    "    if k >=len(points):\n",
    "        for point in points:\n",
    "            clusters[i].append(point)\n",
    "        return clusters    \n",
    "    shuffle(points)\n",
    "    for i in range(k):\n",
    "        cluster = {\n",
    "            'centroid':0,\n",
    "            'points':[]\n",
    "        }\n",
    "        cluster['centroid'] = copy.deepcopy(points[i])\n",
    "        clusters.append(cluster)\n",
    "        \n",
    "    iteration=0\n",
    "    while iteration<iterations:\n",
    "        clusters = add_points_into_clusters(clusters,points,ordinates)\n",
    "        iteration+=1\n",
    "    return clusters"
   ]
  },
  {
   "cell_type": "code",
   "execution_count": 7,
   "metadata": {
    "collapsed": true
   },
   "outputs": [],
   "source": [
    "def print_clusters(clusters):\n",
    "    for i in range(0,len(clusters)):\n",
    "        print('Cluster No: ',i+1)\n",
    "        print('\\tCentroid:',str(clusters[i]['centroid']))\n",
    "        print('\\tPoints:',str(clusters[i]['points']))"
   ]
  },
  {
   "cell_type": "code",
   "execution_count": 8,
   "metadata": {
    "collapsed": true
   },
   "outputs": [],
   "source": [
    "c = kmeans_clustering(read_data_from_csv('kmeans_data.csv'),3,1)"
   ]
  },
  {
   "cell_type": "code",
   "execution_count": 9,
   "metadata": {},
   "outputs": [
    {
     "name": "stdout",
     "output_type": "stream",
     "text": [
      "Cluster No:  1\n",
      "\tCentroid: {'x': 11.5, 'y': 14.5, 'z\\n': 4.0}\n",
      "\tPoints: [{'x': 11.0, 'y': 16.0, 'z\\n': 2.0}, {'x': 12.0, 'y': 13.0, 'z\\n': 6.0}]\n",
      "Cluster No:  2\n",
      "\tCentroid: {'x': 5.0, 'y': 5.0, 'z\\n': 3.5}\n",
      "\tPoints: [{'x': 1.0, 'y': 3.0, 'z\\n': 4.0}, {'x': 9.0, 'y': 7.0, 'z\\n': 3.0}]\n",
      "Cluster No:  3\n",
      "\tCentroid: {'x': 3.6666666666666665, 'y': 2.6666666666666665, 'z\\n': 10.666666666666666}\n",
      "\tPoints: [{'x': 2.0, 'y': 6.0, 'z\\n': 11.0}, {'x': 5.0, 'y': 2.0, 'z\\n': 9.0}, {'x': 4.0, 'y': 0.0, 'z\\n': 12.0}]\n"
     ]
    }
   ],
   "source": [
    "print_clusters(c)"
   ]
  }
 ],
 "metadata": {
  "kernelspec": {
   "display_name": "Python 3",
   "language": "python",
   "name": "python3"
  },
  "language_info": {
   "codemirror_mode": {
    "name": "ipython",
    "version": 3
   },
   "file_extension": ".py",
   "mimetype": "text/x-python",
   "name": "python",
   "nbconvert_exporter": "python",
   "pygments_lexer": "ipython3",
   "version": "3.6.1"
  }
 },
 "nbformat": 4,
 "nbformat_minor": 2
}
