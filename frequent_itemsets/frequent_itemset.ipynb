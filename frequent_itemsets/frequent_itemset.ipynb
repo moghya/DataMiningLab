{
 "cells": [
  {
   "cell_type": "code",
   "execution_count": 1,
   "metadata": {
    "collapsed": true
   },
   "outputs": [],
   "source": [
    "import math\n",
    "from itertools import combinations"
   ]
  },
  {
   "cell_type": "code",
   "execution_count": 2,
   "metadata": {
    "collapsed": true
   },
   "outputs": [],
   "source": [
    "def read_data_in_dict(filename):\n",
    "    f = open(filename)\n",
    "    lines = f.readlines()\n",
    "    transactions = []\n",
    "    items = lines[0].split(',')\n",
    "    for line in lines[1:]:\n",
    "        transactions.append(list(map(int,line.split(','))))\n",
    "    data ={\n",
    "        'items':items,\n",
    "        'transactions':transactions\n",
    "    }\n",
    "    return data"
   ]
  },
  {
   "cell_type": "code",
   "execution_count": 3,
   "metadata": {
    "collapsed": true
   },
   "outputs": [],
   "source": [
    "data=read_data_in_dict('itemsets.csv')"
   ]
  },
  {
   "cell_type": "code",
   "execution_count": 4,
   "metadata": {
    "collapsed": true
   },
   "outputs": [],
   "source": [
    "def get_freq(s,items,transactions):\n",
    "    freq=0\n",
    "    for t in transactions:\n",
    "        temp=1\n",
    "        for item in s:\n",
    "            temp*=t[items.index(item)]\n",
    "        if temp==1:\n",
    "            freq+=1  \n",
    "    return freq"
   ]
  },
  {
   "cell_type": "code",
   "execution_count": 5,
   "metadata": {
    "collapsed": true
   },
   "outputs": [],
   "source": [
    "def frequent_itemsets(data,level,min_support):\n",
    "    items = data['items']\n",
    "    transactions = data['transactions']\n",
    "    min_freq = math.ceil(min_support*len(transactions))\n",
    "    sets = list(combinations(items,level))\n",
    "    frequent_sets = []\n",
    "    for s in sets:\n",
    "        freq=get_freq(s,items,transactions)\n",
    "        if freq>=min_freq:\n",
    "            frequent_sets.append(s)\n",
    "    return frequent_sets\n",
    "        "
   ]
  },
  {
   "cell_type": "code",
   "execution_count": 6,
   "metadata": {},
   "outputs": [
    {
     "data": {
      "text/plain": [
       "[('c', 'd')]"
      ]
     },
     "execution_count": 6,
     "metadata": {},
     "output_type": "execute_result"
    }
   ],
   "source": [
    "frequent_itemsets(data,2,0.5)"
   ]
  },
  {
   "cell_type": "code",
   "execution_count": null,
   "metadata": {
    "collapsed": true
   },
   "outputs": [],
   "source": []
  }
 ],
 "metadata": {
  "kernelspec": {
   "display_name": "Python 3",
   "language": "python",
   "name": "python3"
  },
  "language_info": {
   "codemirror_mode": {
    "name": "ipython",
    "version": 3
   },
   "file_extension": ".py",
   "mimetype": "text/x-python",
   "name": "python",
   "nbconvert_exporter": "python",
   "pygments_lexer": "ipython3",
   "version": "3.6.1"
  }
 },
 "nbformat": 4,
 "nbformat_minor": 2
}
