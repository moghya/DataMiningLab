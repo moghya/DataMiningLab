{
 "cells": [
  {
   "cell_type": "code",
   "execution_count": 23,
   "metadata": {
    "collapsed": true
   },
   "outputs": [],
   "source": [
    "from random import *\n",
    "import math"
   ]
  },
  {
   "cell_type": "code",
   "execution_count": 24,
   "metadata": {
    "collapsed": true
   },
   "outputs": [],
   "source": [
    "def read_csv_data(filename):\n",
    "    f = open(filename)\n",
    "    lines = f.readlines()\n",
    "    dataset = []\n",
    "    for l in lines:\n",
    "        dataset.append(list(map(float,l.split(','))))\n",
    "    return dataset"
   ]
  },
  {
   "cell_type": "code",
   "execution_count": 25,
   "metadata": {
    "collapsed": true
   },
   "outputs": [],
   "source": [
    "def split_dataset(dataset, split_ratio):\n",
    "    train_size = int(len(dataset) * split_ratio)\n",
    "    shuffle(dataset)\n",
    "    train = dataset[0:train_size]\n",
    "    test = dataset[train_size:]\n",
    "    return [train, test]"
   ]
  },
  {
   "cell_type": "code",
   "execution_count": 26,
   "metadata": {
    "collapsed": true
   },
   "outputs": [],
   "source": [
    "def mean(dataset):\n",
    "    return sum(dataset)/float(len(dataset))\n",
    "\n",
    "def std(dataset):\n",
    "    avg = mean(dataset)\n",
    "    variance = sum([pow(x-avg,2) for x in dataset])/float(len(dataset)-1)\n",
    "    return math.sqrt(variance)"
   ]
  },
  {
   "cell_type": "code",
   "execution_count": 27,
   "metadata": {
    "collapsed": true
   },
   "outputs": [],
   "source": [
    "def divide_on_class(dataset):\n",
    "    divided = {}\n",
    "    for i in range(len(dataset)):\n",
    "        row = dataset[i]\n",
    "        if (row[-1] not in divided):\n",
    "            divided[row[-1]] = []\n",
    "        divided[row[-1]].append(row)\n",
    "    return divided"
   ]
  },
  {
   "cell_type": "code",
   "execution_count": 28,
   "metadata": {
    "collapsed": true
   },
   "outputs": [],
   "source": [
    "def get_summary(rows_by_class):\n",
    "    summary = [(mean(attribute), std(attribute)) for attribute in zip(*rows_by_class)]\n",
    "    del summary[-1]\n",
    "    return summary"
   ]
  },
  {
   "cell_type": "code",
   "execution_count": 29,
   "metadata": {
    "collapsed": true
   },
   "outputs": [],
   "source": [
    "def summarize_by_class(dataset):\n",
    "    separated = divide_on_class(dataset)\n",
    "    summaries = {}\n",
    "    for class_value in separated:\n",
    "        instances = separated[class_value]\n",
    "        summaries[class_value] = get_summary(instances)\n",
    "    return summaries"
   ]
  },
  {
   "cell_type": "code",
   "execution_count": 30,
   "metadata": {
    "collapsed": true
   },
   "outputs": [],
   "source": [
    "def probability(x, mean, std):\n",
    "    e = math.exp(-(math.pow(x-mean,2)/(2*math.pow(std,2))))\n",
    "    return (1 / (math.sqrt(2*math.pi) * std)) * e"
   ]
  },
  {
   "cell_type": "code",
   "execution_count": 31,
   "metadata": {
    "collapsed": true
   },
   "outputs": [],
   "source": [
    "def get_class_probablities(summaries,row):\n",
    "    probabs = {}\n",
    "    for class_value, class_summary in summaries.items():\n",
    "        probabs[class_value] = 1\n",
    "        for i in range(len(class_summary)):\n",
    "            mean, std = class_summary[i]\n",
    "            x = row[i]\n",
    "            probabs[class_value] *= probability(x, mean, std)\n",
    "    return probabs"
   ]
  },
  {
   "cell_type": "code",
   "execution_count": 32,
   "metadata": {
    "collapsed": true
   },
   "outputs": [],
   "source": [
    "def predict(summaries, row):\n",
    "    probabs = get_class_probablities(summaries, row)\n",
    "    l, p = None, -1\n",
    "    for class_value, probab in probabs.items():\n",
    "        if l is None or probab > p:\n",
    "            p = probab\n",
    "            l = class_value\n",
    "    return l"
   ]
  },
  {
   "cell_type": "code",
   "execution_count": 33,
   "metadata": {
    "collapsed": true
   },
   "outputs": [],
   "source": [
    "def get_predications(summaries,dataset):\n",
    "    predictions = []\n",
    "    for i in range(len(dataset)):\n",
    "        result = predict(summaries, dataset[i])\n",
    "        predictions.append(result)\n",
    "    return predictions\n",
    "    "
   ]
  },
  {
   "cell_type": "code",
   "execution_count": 34,
   "metadata": {
    "collapsed": true
   },
   "outputs": [],
   "source": [
    "def accuracy(dataset, predictions):\n",
    "    correct_predictions = 0\n",
    "    for i in range(len(dataset)):\n",
    "        if dataset[i][-1] == predictions[i]:\n",
    "            correct_predictions += 1\n",
    "    return (correct_predictions/float(len(dataset))) * 100.0"
   ]
  },
  {
   "cell_type": "code",
   "execution_count": 35,
   "metadata": {
    "collapsed": true
   },
   "outputs": [],
   "source": [
    "def demo(filename,split_ratio):\n",
    "    dataset = read_csv_data(filename)\n",
    "    train,test = split_dataset(dataset,split_ratio)\n",
    "    summaries = summarize_by_class(train)\n",
    "    predictions = get_predications(summaries,test)\n",
    "    print('Accuracy: ',accuracy(test,predictions))"
   ]
  },
  {
   "cell_type": "code",
   "execution_count": 36,
   "metadata": {},
   "outputs": [
    {
     "name": "stdout",
     "output_type": "stream",
     "text": [
      "Accuracy:  74.73958333333334\n"
     ]
    }
   ],
   "source": [
    "demo('diabetes.csv',0.5)"
   ]
  },
  {
   "cell_type": "code",
   "execution_count": null,
   "metadata": {
    "collapsed": true
   },
   "outputs": [],
   "source": []
  },
  {
   "cell_type": "code",
   "execution_count": null,
   "metadata": {
    "collapsed": true
   },
   "outputs": [],
   "source": []
  }
 ],
 "metadata": {
  "kernelspec": {
   "display_name": "Python 3",
   "language": "python",
   "name": "python3"
  },
  "language_info": {
   "codemirror_mode": {
    "name": "ipython",
    "version": 3
   },
   "file_extension": ".py",
   "mimetype": "text/x-python",
   "name": "python",
   "nbconvert_exporter": "python",
   "pygments_lexer": "ipython3",
   "version": "3.6.1"
  }
 },
 "nbformat": 4,
 "nbformat_minor": 2
}
