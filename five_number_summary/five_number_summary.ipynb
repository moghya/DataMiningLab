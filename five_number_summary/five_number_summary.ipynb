{
 "cells": [
  {
   "cell_type": "code",
   "execution_count": 18,
   "metadata": {
    "collapsed": true
   },
   "outputs": [],
   "source": [
    "import math"
   ]
  },
  {
   "cell_type": "code",
   "execution_count": 19,
   "metadata": {
    "collapsed": true
   },
   "outputs": [],
   "source": [
    "def read_data(filename):\n",
    "    f = open(filename)\n",
    "    lines = f.readlines()\n",
    "    data = []\n",
    "    for l in lines:\n",
    "        data.append(float(l.strip()))\n",
    "    return data"
   ]
  },
  {
   "cell_type": "code",
   "execution_count": 20,
   "metadata": {},
   "outputs": [],
   "source": [
    "data=read_data('five_point_data.csv')"
   ]
  },
  {
   "cell_type": "code",
   "execution_count": 21,
   "metadata": {
    "collapsed": true
   },
   "outputs": [],
   "source": [
    "def median(data):\n",
    "    l = len(data)\n",
    "    if l%2!=0:\n",
    "        return data[math.ceil(l/2)]\n",
    "    return (data[l//2]+data[(l//2)-1])/2"
   ]
  },
  {
   "cell_type": "code",
   "execution_count": 22,
   "metadata": {},
   "outputs": [],
   "source": [
    "def five_point_summary(data):\n",
    "    l = len(data)\n",
    "    data.sort()\n",
    "    s= {}\n",
    "    s['min_value'] = min(data)\n",
    "    s['q1']=median(data[0:l//2])\n",
    "    s['median_value']= median(data)\n",
    "    s['q2']=median(data[l//2:])\n",
    "    s['max_value'] = max(data)\n",
    "    return s"
   ]
  },
  {
   "cell_type": "code",
   "execution_count": 23,
   "metadata": {},
   "outputs": [
    {
     "data": {
      "text/plain": [
       "{'max_value': 100.0,\n",
       " 'median_value': 8.5,\n",
       " 'min_value': 0.0,\n",
       " 'q1': 5.0,\n",
       " 'q2': 31.0}"
      ]
     },
     "execution_count": 23,
     "metadata": {},
     "output_type": "execute_result"
    }
   ],
   "source": [
    "five_point_summary(data)"
   ]
  },
  {
   "cell_type": "code",
   "execution_count": null,
   "metadata": {
    "collapsed": true
   },
   "outputs": [],
   "source": []
  }
 ],
 "metadata": {
  "kernelspec": {
   "display_name": "Python 3",
   "language": "python",
   "name": "python3"
  },
  "language_info": {
   "codemirror_mode": {
    "name": "ipython",
    "version": 3
   },
   "file_extension": ".py",
   "mimetype": "text/x-python",
   "name": "python",
   "nbconvert_exporter": "python",
   "pygments_lexer": "ipython3",
   "version": "3.6.1"
  }
 },
 "nbformat": 4,
 "nbformat_minor": 2
}
