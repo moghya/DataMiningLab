{
 "cells": [
  {
   "cell_type": "code",
   "execution_count": 1,
   "metadata": {
    "collapsed": true
   },
   "outputs": [],
   "source": [
    "def read_csv_in_2d_matrix(filename):\n",
    "    f = open(filename)\n",
    "    data = {}\n",
    "    lines = f.readlines()\n",
    "    data['cols'] = []\n",
    "    data['rows'] = []\n",
    "    for name in lines[0].split(','):\n",
    "        data['cols'].append([name])\n",
    "        data['rows'].append([name])\n",
    "        \n",
    "    data['mat'] = []\n",
    "    for i in range(1,len(lines)):\n",
    "        data['mat'].append(list(map(int,lines[i].split(','))))\n",
    "    return data"
   ]
  },
  {
   "cell_type": "code",
   "execution_count": 2,
   "metadata": {
    "collapsed": true
   },
   "outputs": [],
   "source": [
    "def print_2d_mat(data,complete=True):\n",
    "    print(' ',end='')\n",
    "    for name in data['cols']:\n",
    "        print(name,end=' ')\n",
    "    print()\n",
    "    if complete:\n",
    "        for i in range(0,len(data['rows'])):\n",
    "            row = data['mat'][i]\n",
    "            print(data['rows'][i],end=' ')\n",
    "            for col in row:\n",
    "                print(col,end=' ')\n",
    "            print()\n",
    "        print('_________________________________')"
   ]
  },
  {
   "cell_type": "code",
   "execution_count": 3,
   "metadata": {
    "collapsed": true
   },
   "outputs": [],
   "source": [
    "def find_row_col_of_min_from_2d(data):\n",
    "    mat = data['mat']\n",
    "    min_element = min(mat[0])\n",
    "    min_col = mat[0].index(min_element)\n",
    "    min_row = 0\n",
    "    for i in range(1,len(mat)):\n",
    "        min_in_row = min(mat[i][0:i])\n",
    "        if min_in_row <min_element or min_element==0:\n",
    "            min_col = mat[i].index(min_in_row)\n",
    "            min_row = i\n",
    "            min_element=min_in_row\n",
    "            \n",
    "    return min_row,min_col"
   ]
  },
  {
   "cell_type": "code",
   "execution_count": 4,
   "metadata": {
    "collapsed": true
   },
   "outputs": [],
   "source": [
    "def merge_clusters_and_update_mat(data,min_location):\n",
    "    new_mat = []    \n",
    "    \n",
    "    min_index_of_location = min(min_location)\n",
    "    max_index_of_location = max(min_location)\n",
    "    data['cols'][min_index_of_location]+=data['cols'][max_index_of_location]\n",
    "    data['rows'][min_index_of_location]+=data['rows'][max_index_of_location]\n",
    "    del data['cols'][max_index_of_location]\n",
    "    del data['rows'][max_index_of_location]\n",
    "    mat = data['mat']\n",
    "    for i in range(1,len(mat)):\n",
    "        new_row = []\n",
    "        for j in range(1,len(mat)):\n",
    "            value = mat[i-1][j-1]\n",
    "            if i-1==min_index_of_location:\n",
    "                value=min(value,mat[max_index_of_location][j-1])\n",
    "            elif j-1==min_index_of_location:\n",
    "                value=min(value,mat[max_index_of_location][i-1])                \n",
    "            new_row.append(value)\n",
    "            \n",
    "        new_mat.append(new_row)    \n",
    "    data['mat']=new_mat\n",
    "    return data"
   ]
  },
  {
   "cell_type": "code",
   "execution_count": 5,
   "metadata": {
    "collapsed": true
   },
   "outputs": [],
   "source": [
    "def clustering(data):\n",
    "    while len(data['cols'])!=1:\n",
    "        print_2d_mat(data,False)\n",
    "        min_location = find_row_col_of_min_from_2d(data)\n",
    "        data = merge_clusters_and_update_mat(data,min_location)\n",
    "    print_2d_mat(data,False)"
   ]
  },
  {
   "cell_type": "code",
   "execution_count": 6,
   "metadata": {},
   "outputs": [
    {
     "name": "stdout",
     "output_type": "stream",
     "text": [
      " ['a'] ['b'] ['c'] ['d'] ['e'] ['f\\n'] \n",
      " ['a'] ['b'] ['c', 'f\\n'] ['d'] ['e'] \n",
      " ['a'] ['b'] ['c', 'f\\n'] ['d', 'e'] \n",
      " ['a', 'd', 'e'] ['b'] ['c', 'f\\n'] \n",
      " ['a', 'd', 'e', 'c', 'f\\n'] ['b'] \n",
      " ['a', 'd', 'e', 'c', 'f\\n', 'b'] \n"
     ]
    }
   ],
   "source": [
    "clustering(read_csv_in_2d_matrix('distances.csv'))"
   ]
  },
  {
   "cell_type": "code",
   "execution_count": null,
   "metadata": {
    "collapsed": true
   },
   "outputs": [],
   "source": []
  }
 ],
 "metadata": {
  "kernelspec": {
   "display_name": "Python 3",
   "language": "python",
   "name": "python3"
  },
  "language_info": {
   "codemirror_mode": {
    "name": "ipython",
    "version": 3
   },
   "file_extension": ".py",
   "mimetype": "text/x-python",
   "name": "python",
   "nbconvert_exporter": "python",
   "pygments_lexer": "ipython3",
   "version": "3.6.1"
  }
 },
 "nbformat": 4,
 "nbformat_minor": 2
}
